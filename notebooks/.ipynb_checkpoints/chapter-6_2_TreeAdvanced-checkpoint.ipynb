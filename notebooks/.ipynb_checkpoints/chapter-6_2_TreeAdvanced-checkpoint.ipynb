{
 "cells": [
  {
   "cell_type": "markdown",
   "metadata": {},
   "source": [
    "### TreeAdvanced"
   ]
  },
  {
   "cell_type": "code",
   "execution_count": 1,
   "metadata": {},
   "outputs": [],
   "source": [
    "import pandas as pd\n",
    "import numpy as np\n",
    "pd.options.display.max_columns = None"
   ]
  },
  {
   "cell_type": "code",
   "execution_count": 2,
   "metadata": {},
   "outputs": [
    {
     "data": {
      "text/html": [
       "<div>\n",
       "<style scoped>\n",
       "    .dataframe tbody tr th:only-of-type {\n",
       "        vertical-align: middle;\n",
       "    }\n",
       "\n",
       "    .dataframe tbody tr th {\n",
       "        vertical-align: top;\n",
       "    }\n",
       "\n",
       "    .dataframe thead th {\n",
       "        text-align: right;\n",
       "    }\n",
       "</style>\n",
       "<table border=\"1\" class=\"dataframe\">\n",
       "  <thead>\n",
       "    <tr style=\"text-align: right;\">\n",
       "      <th></th>\n",
       "      <th>home_ownership</th>\n",
       "      <th>income</th>\n",
       "      <th>dti</th>\n",
       "      <th>fico_low</th>\n",
       "      <th>loan_status</th>\n",
       "    </tr>\n",
       "  </thead>\n",
       "  <tbody>\n",
       "    <tr>\n",
       "      <th>0</th>\n",
       "      <td>1</td>\n",
       "      <td>44.304</td>\n",
       "      <td>18.47</td>\n",
       "      <td>690</td>\n",
       "      <td>0</td>\n",
       "    </tr>\n",
       "    <tr>\n",
       "      <th>1</th>\n",
       "      <td>0</td>\n",
       "      <td>38.500</td>\n",
       "      <td>33.73</td>\n",
       "      <td>660</td>\n",
       "      <td>0</td>\n",
       "    </tr>\n",
       "    <tr>\n",
       "      <th>2</th>\n",
       "      <td>1</td>\n",
       "      <td>54.000</td>\n",
       "      <td>19.00</td>\n",
       "      <td>660</td>\n",
       "      <td>0</td>\n",
       "    </tr>\n",
       "    <tr>\n",
       "      <th>3</th>\n",
       "      <td>1</td>\n",
       "      <td>60.000</td>\n",
       "      <td>33.98</td>\n",
       "      <td>695</td>\n",
       "      <td>0</td>\n",
       "    </tr>\n",
       "    <tr>\n",
       "      <th>4</th>\n",
       "      <td>0</td>\n",
       "      <td>39.354</td>\n",
       "      <td>10.85</td>\n",
       "      <td>685</td>\n",
       "      <td>0</td>\n",
       "    </tr>\n",
       "  </tbody>\n",
       "</table>\n",
       "</div>"
      ],
      "text/plain": [
       "   home_ownership  income    dti  fico_low  loan_status\n",
       "0               1  44.304  18.47       690            0\n",
       "1               0  38.500  33.73       660            0\n",
       "2               1  54.000  19.00       660            0\n",
       "3               1  60.000  33.98       695            0\n",
       "4               0  39.354  10.85       685            0"
      ]
     },
     "execution_count": 2,
     "metadata": {},
     "output_type": "execute_result"
    }
   ],
   "source": [
    "# Both features and target have already been scaled: mean = 0; SD = 1\n",
    "# See Chapter 4-0 for a descrition of this dataset\n",
    "path = './data/'\n",
    "df_train = pd.read_excel(path + 'lendingclub_traindata.xlsx') \n",
    "df_test = pd.read_excel(path + 'lendingclub_testdata.xlsx') \n",
    "df_train.head()"
   ]
  },
  {
   "cell_type": "code",
   "execution_count": 3,
   "metadata": {},
   "outputs": [
    {
     "name": "stdout",
     "output_type": "stream",
     "text": [
      "X_train & y_train shape: (8695, 4) (8695,)\n",
      "X_test & y_test shape: (5916, 4) (5916,)\n"
     ]
    }
   ],
   "source": [
    "from sklearn.model_selection import train_test_split\n",
    "\n",
    "cols = list(df_train.columns)\n",
    "cols.remove('loan_status')\n",
    "X_train = df_train[cols].copy()\n",
    "y_train = df_train['loan_status'].copy()\n",
    "\n",
    "X_test = df_test[cols].copy()\n",
    "y_test = df_test['loan_status'].copy()\n",
    "\n",
    "print(\"X_train & y_train shape:\", X_train.shape, y_train.shape)\n",
    "print(\"X_test & y_test shape:\", X_test.shape, y_test.shape)"
   ]
  },
  {
   "cell_type": "code",
   "execution_count": 4,
   "metadata": {},
   "outputs": [
    {
     "data": {
      "text/html": [
       "<div>\n",
       "<style scoped>\n",
       "    .dataframe tbody tr th:only-of-type {\n",
       "        vertical-align: middle;\n",
       "    }\n",
       "\n",
       "    .dataframe tbody tr th {\n",
       "        vertical-align: top;\n",
       "    }\n",
       "\n",
       "    .dataframe thead th {\n",
       "        text-align: right;\n",
       "    }\n",
       "</style>\n",
       "<table border=\"1\" class=\"dataframe\">\n",
       "  <thead>\n",
       "    <tr style=\"text-align: right;\">\n",
       "      <th></th>\n",
       "      <th>home_ownership</th>\n",
       "      <th>income</th>\n",
       "      <th>dti</th>\n",
       "      <th>fico_low</th>\n",
       "    </tr>\n",
       "  </thead>\n",
       "  <tbody>\n",
       "    <tr>\n",
       "      <th>0</th>\n",
       "      <td>1</td>\n",
       "      <td>44.304</td>\n",
       "      <td>18.47</td>\n",
       "      <td>690</td>\n",
       "    </tr>\n",
       "    <tr>\n",
       "      <th>1</th>\n",
       "      <td>0</td>\n",
       "      <td>38.500</td>\n",
       "      <td>33.73</td>\n",
       "      <td>660</td>\n",
       "    </tr>\n",
       "    <tr>\n",
       "      <th>2</th>\n",
       "      <td>1</td>\n",
       "      <td>54.000</td>\n",
       "      <td>19.00</td>\n",
       "      <td>660</td>\n",
       "    </tr>\n",
       "    <tr>\n",
       "      <th>3</th>\n",
       "      <td>1</td>\n",
       "      <td>60.000</td>\n",
       "      <td>33.98</td>\n",
       "      <td>695</td>\n",
       "    </tr>\n",
       "    <tr>\n",
       "      <th>4</th>\n",
       "      <td>0</td>\n",
       "      <td>39.354</td>\n",
       "      <td>10.85</td>\n",
       "      <td>685</td>\n",
       "    </tr>\n",
       "  </tbody>\n",
       "</table>\n",
       "</div>"
      ],
      "text/plain": [
       "   home_ownership  income    dti  fico_low\n",
       "0               1  44.304  18.47       690\n",
       "1               0  38.500  33.73       660\n",
       "2               1  54.000  19.00       660\n",
       "3               1  60.000  33.98       695\n",
       "4               0  39.354  10.85       685"
      ]
     },
     "execution_count": 4,
     "metadata": {},
     "output_type": "execute_result"
    }
   ],
   "source": [
    "X_train.head()"
   ]
  },
  {
   "cell_type": "code",
   "execution_count": 5,
   "metadata": {},
   "outputs": [],
   "source": [
    "from sklearn.model_selection import GridSearchCV\n",
    "from sklearn.ensemble import RandomForestClassifier\n",
    "\n",
    "base_estimator = RandomForestClassifier()\n",
    "\n",
    "params = {'n_estimators': [5, 10, 20, 100],\n",
    "   \"max_depth\":[3,5,7],\n",
    "   \"min_samples_split\":[2,5,10,20],\n",
    "   \"min_samples_leaf\":[1,2,5,10,20]}    "
   ]
  },
  {
   "cell_type": "code",
   "execution_count": 6,
   "metadata": {},
   "outputs": [],
   "source": [
    "#pipe[1].fit(pipe[0].fit_transform(X_train))"
   ]
  },
  {
   "cell_type": "code",
   "execution_count": 7,
   "metadata": {},
   "outputs": [],
   "source": [
    "gd = GridSearchCV(\n",
    "    base_estimator,  ## model to fit\n",
    "    params, # grid of hyperparameter\n",
    "    cv = 5,  # if integer assume k-fold, could assign any type of splitting method (see sklearn.model_selection)\n",
    "    scoring = \"roc_auc\", # scoring method to evaluate a model (https://scikit-learn.org/stable/modules/model_evaluation.html#scoring-parameter)\n",
    "    n_jobs = 4,\n",
    "    verbose = 3, \n",
    "    refit = True\n",
    ")"
   ]
  },
  {
   "cell_type": "code",
   "execution_count": 8,
   "metadata": {},
   "outputs": [
    {
     "name": "stdout",
     "output_type": "stream",
     "text": [
      "Fitting 5 folds for each of 240 candidates, totalling 1200 fits\n"
     ]
    },
    {
     "data": {
      "text/plain": [
       "GridSearchCV(cv=5, estimator=RandomForestClassifier(), n_jobs=4,\n",
       "             param_grid={'max_depth': [3, 5, 7],\n",
       "                         'min_samples_leaf': [1, 2, 5, 10, 20],\n",
       "                         'min_samples_split': [2, 5, 10, 20],\n",
       "                         'n_estimators': [5, 10, 20, 100]},\n",
       "             scoring='roc_auc', verbose=3)"
      ]
     },
     "execution_count": 8,
     "metadata": {},
     "output_type": "execute_result"
    }
   ],
   "source": [
    "gd.fit(X_train, y_train) "
   ]
  },
  {
   "cell_type": "code",
   "execution_count": 9,
   "metadata": {},
   "outputs": [],
   "source": [
    "result = pd.DataFrame(gd.cv_results_)"
   ]
  },
  {
   "cell_type": "code",
   "execution_count": 10,
   "metadata": {},
   "outputs": [],
   "source": [
    "#result.head()"
   ]
  },
  {
   "cell_type": "code",
   "execution_count": 11,
   "metadata": {},
   "outputs": [],
   "source": [
    "best_params = result.sort_values(\"rank_test_score\")[\"params\"][0]"
   ]
  },
  {
   "cell_type": "code",
   "execution_count": 12,
   "metadata": {},
   "outputs": [
    {
     "data": {
      "text/plain": [
       "{'max_depth': 3,\n",
       " 'min_samples_leaf': 1,\n",
       " 'min_samples_split': 2,\n",
       " 'n_estimators': 5}"
      ]
     },
     "execution_count": 12,
     "metadata": {},
     "output_type": "execute_result"
    }
   ],
   "source": [
    "best_params"
   ]
  },
  {
   "cell_type": "code",
   "execution_count": 13,
   "metadata": {},
   "outputs": [],
   "source": [
    "best_model = gd.best_estimator_\n",
    "prob_a = best_model.predict_proba(X_test)[:,1]"
   ]
  },
  {
   "cell_type": "code",
   "execution_count": 14,
   "metadata": {},
   "outputs": [
    {
     "data": {
      "image/png": "[encoded data removed]",
      "text/plain": [
       "<Figure size 1080x360 with 2 Axes>"
      ]
     },
     "metadata": {
      "needs_background": "light"
     },
     "output_type": "display_data"
    },
    {
     "name": "stdout",
     "output_type": "stream",
     "text": [
      "AUC Score :  0.6156593960345261\n"
     ]
    }
   ],
   "source": [
    "import matplotlib.pyplot as plt\n",
    "from sklearn.metrics import roc_auc_score, roc_curve\n",
    "fig , ax = plt.subplots(1,2, figsize = (15,5))\n",
    "\n",
    "uno_distr = prob_a[y_test==1]\n",
    "zero_distr = prob_a[y_test==0]\n",
    "ax[0].hist(uno_distr, color=\"red\", label = \"score(z|y=1)\", density=True, alpha=0.5, bins=50)\n",
    "ax[0].hist(zero_distr, color=\"blue\", label = \"score(z|y=0)\", density=True, alpha=0.5, bins=50)\n",
    "ax[0].set_xlabel(\"score\", fontsize=12)\n",
    "ax[0].set_xlabel(\"distribution\", fontsize=12)\n",
    "\n",
    "lr_auc=roc_auc_score(y_test, prob_a)\n",
    "lr_fpr,lr_tpr, thresholds =roc_curve(y_test,prob_a)\n",
    "\n",
    "ax[1].plot([0, 1], [0, 1], color=\"navy\", lw=1, linestyle=\"--\", label='Random Prediction')\n",
    "ax[1].plot(lr_fpr,lr_tpr , color=\"black\" , label='Random Forest')\n",
    "ax[1].set_xlabel('False Positive Rate')\n",
    "ax[1].set_ylabel('True Positive Rate')\n",
    "ax[1].legend()\n",
    "plt.legend()\n",
    "plt.show()\n",
    "print(\"AUC Score : \", lr_auc)"
   ]
  },
  {
   "cell_type": "code",
   "execution_count": 17,
   "metadata": {},
   "outputs": [
    {
     "data": {
      "image/png": "[encoded data removed]",
      "text/plain": [
       "<Figure size 432x288 with 1 Axes>"
      ]
     },
     "metadata": {
      "needs_background": "light"
     },
     "output_type": "display_data"
    }
   ],
   "source": [
    "feat_importances = pd.Series(best_model.feature_importances_, index=X_train.columns)\n",
    "feat_importances.nlargest(20).plot(kind='barh')\n",
    "plt.show()"
   ]
  },
  {
   "cell_type": "code",
   "execution_count": null,
   "metadata": {},
   "outputs": [],
   "source": []
  },
  {
   "cell_type": "code",
   "execution_count": null,
   "metadata": {},
   "outputs": [],
   "source": []
  },
  {
   "cell_type": "code",
   "execution_count": null,
   "metadata": {},
   "outputs": [],
   "source": []
  },
  {
   "cell_type": "code",
   "execution_count": 18,
   "metadata": {},
   "outputs": [
    {
     "name": "stdout",
     "output_type": "stream",
     "text": [
      "Fitting 5 folds for each of 48 candidates, totalling 240 fits\n"
     ]
    }
   ],
   "source": [
    "from sklearn.model_selection import GridSearchCV\n",
    "from sklearn.ensemble import GradientBoostingClassifier\n",
    "\n",
    "base_estimator = GradientBoostingClassifier()\n",
    "\n",
    "params = { \n",
    "    \"learning_rate\" : [0.01, 0.1, 0.5, 0.05],\n",
    "    'n_estimators': [5, 10, 20, 50],\n",
    "   \"max_depth\":[2,3,5]}    \n",
    "\n",
    "gd = GridSearchCV(\n",
    "    base_estimator,  \n",
    "    params, \n",
    "    cv = 5,  \n",
    "    scoring = \"roc_auc\",\n",
    "    n_jobs = 4,\n",
    "    verbose = 5, \n",
    "    refit = True\n",
    ")\n",
    "\n",
    "gd.fit(X_train, y_train)\n",
    "result = pd.DataFrame(gd.cv_results_)\n",
    "best_params = result.sort_values(\"rank_test_score\")[\"params\"][0]\n",
    "best_model = gd.best_estimator_\n",
    "prob_a = best_model.predict_proba(X_test)[:,1]"
   ]
  },
  {
   "cell_type": "code",
   "execution_count": 19,
   "metadata": {},
   "outputs": [
    {
     "data": {
      "text/plain": [
       "{'learning_rate': 0.01, 'max_depth': 2, 'n_estimators': 5}"
      ]
     },
     "execution_count": 19,
     "metadata": {},
     "output_type": "execute_result"
    }
   ],
   "source": [
    "best_params"
   ]
  },
  {
   "cell_type": "code",
   "execution_count": 20,
   "metadata": {},
   "outputs": [
    {
     "data": {
      "image/png": "[encoded data removed]",
      "text/plain": [
       "<Figure size 1080x360 with 2 Axes>"
      ]
     },
     "metadata": {
      "needs_background": "light"
     },
     "output_type": "display_data"
    },
    {
     "name": "stdout",
     "output_type": "stream",
     "text": [
      "AUC Score :  0.6136343030536032\n"
     ]
    }
   ],
   "source": [
    "import matplotlib.pyplot as plt\n",
    "from sklearn.metrics import roc_auc_score, roc_curve\n",
    "fig , ax = plt.subplots(1,2, figsize = (15,5))\n",
    "\n",
    "uno_distr = prob_a[y_test==1]\n",
    "zero_distr = prob_a[y_test==0]\n",
    "ax[0].hist(uno_distr, color=\"red\", label = \"score(z|y=1)\", density=True, alpha=0.5, bins=50)\n",
    "ax[0].hist(zero_distr, color=\"blue\", label = \"score(z|y=0)\", density=True, alpha=0.5, bins=50)\n",
    "ax[0].set_xlabel(\"score\", fontsize=12)\n",
    "ax[0].set_xlabel(\"distribution\", fontsize=12)\n",
    "\n",
    "lr_auc=roc_auc_score(y_test, prob_a)\n",
    "lr_fpr_gradient,lr_tpr_gradient, thresholds =roc_curve(y_test,prob_a)\n",
    "\n",
    "ax[1].plot([0, 1], [0, 1], color=\"navy\", lw=1, linestyle=\"--\", label='Random Prediction')\n",
    "ax[1].plot(lr_fpr_gradient,lr_tpr_gradient , color=\"black\" , label='Gradient Boosting')\n",
    "ax[1].set_xlabel('False Positive Rate')\n",
    "ax[1].set_ylabel('True Positive Rate')\n",
    "ax[1].legend()\n",
    "plt.legend()\n",
    "plt.show()\n",
    "print(\"AUC Score : \", lr_auc)"
   ]
  },
  {
   "cell_type": "code",
   "execution_count": 22,
   "metadata": {},
   "outputs": [
    {
     "data": {
      "text/plain": [
       "<AxesSubplot:>"
      ]
     },
     "execution_count": 22,
     "metadata": {},
     "output_type": "execute_result"
    },
    {
     "data": {
      "image/png": "[encoded data removed]",
      "text/plain": [
       "<Figure size 432x288 with 1 Axes>"
      ]
     },
     "metadata": {
      "needs_background": "light"
     },
     "output_type": "display_data"
    }
   ],
   "source": [
    "feat_importances = pd.Series(best_model.feature_importances_, index=X_train.columns)\n",
    "feat_importances.nlargest(20).plot(kind='barh')"
   ]
  },
  {
   "cell_type": "code",
   "execution_count": null,
   "metadata": {},
   "outputs": [],
   "source": []
  },
  {
   "cell_type": "code",
   "execution_count": 23,
   "metadata": {},
   "outputs": [
    {
     "data": {
      "image/png": "[encoded data removed]",
      "text/plain": [
       "<Figure size 720x360 with 1 Axes>"
      ]
     },
     "metadata": {
      "needs_background": "light"
     },
     "output_type": "display_data"
    }
   ],
   "source": [
    "fig, ax = plt.subplots(1,1, figsize=(10,5))\n",
    "ax.plot([0, 1], [0, 1], color=\"navy\", lw=1, linestyle=\"--\", label='Random Prediction')\n",
    "ax.plot(lr_fpr_gradient,lr_tpr_gradient , color=\"red\" , label='Gradient Boosting')\n",
    "ax.plot(lr_fpr,lr_tpr , color=\"black\" , label='Random Forest')\n",
    "ax.set_xlabel('False Positive Rate')\n",
    "ax.set_ylabel('True Positive Rate')\n",
    "ax.legend()\n",
    "plt.legend()\n",
    "plt.show()"
   ]
  },
  {
   "cell_type": "code",
   "execution_count": null,
   "metadata": {},
   "outputs": [],
   "source": []
  },
  {
   "cell_type": "code",
   "execution_count": null,
   "metadata": {},
   "outputs": [],
   "source": []
  }
 ],
 "metadata": {
  "kernelspec": {
   "display_name": "Python 3 (ipykernel)",
   "language": "python",
   "name": "python3"
  },
  "language_info": {
   "codemirror_mode": {
    "name": "ipython",
    "version": 3
   },
   "file_extension": ".py",
   "mimetype": "text/x-python",
   "name": "python",
   "nbconvert_exporter": "python",
   "pygments_lexer": "ipython3",
   "version": "3.8.10"
  },
  "toc": {
   "base_numbering": "4",
   "nav_menu": {},
   "number_sections": true,
   "sideBar": true,
   "skip_h1_title": false,
   "title_cell": "Table of Contents",
   "title_sidebar": "Contents",
   "toc_cell": false,
   "toc_position": {
    "height": "calc(100% - 180px)",
    "left": "10px",
    "top": "150px",
    "width": "331px"
   },
   "toc_section_display": true,
   "toc_window_display": false
  }
 },
 "nbformat": 4,
 "nbformat_minor": 4
}
